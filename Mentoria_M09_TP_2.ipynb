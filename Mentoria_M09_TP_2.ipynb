{
 "cells": [
  {
   "cell_type": "markdown",
   "metadata": {},
   "source": [
    "# M09-Desafío EPEC: Modelado y Optimización de Hábitos de Consumo de Energía Eléctrica 24\n",
    "\n",
    "Práctico Nro 2"
   ]
  },
  {
   "cell_type": "markdown",
   "metadata": {},
   "source": [
    "## 1.- Hábitos de consumo\n",
    "Establecer un modelo de hábitos de consumo de la energía eléctrica en los tres tramos horarios establecidos por el mercado, correlacionados por día hábil (weekday) o fin de semana (weekend), condiciones ambientales (temperatura y humedad) y por tipo\n",
    "tarifario.\n",
    "\n",
    "Los tramos horarios son resto (5am a 6pm), pico (6pm a 11pm) y valle (11pm a 5am).\n",
    "\n",
    "**a.- Calcular consumo en tramos horarios y realizar todas las gráficas que consideren necesarias para explicar los comportamientos y sus relaciones.**\n",
    "\n",
    "Algunos ejemplos de hábitos de consumo:\n",
    "* Residentes que trabajan fuera del hogar: Pueden tener un bajo consumo de energía durante el día (tramo resto) y un alto consumo en la noche (tramo pico) y madrugada (tramo valle), especialmente durante los fines de semana.\n",
    "* Oficinas y negocios: Pueden tener un alto consumo durante las horas laborales (tramo resto) y bajo consumo durante la noche (tramo valle).\n",
    "* Uso residencial en climas cálidos: Podrían tener un aumento en el consumo de energía para aire acondicionado durante las horas de mayor temperatura."
   ]
  },
  {
   "cell_type": "markdown",
   "metadata": {},
   "source": [
    "## 2.- Factor de uso\n",
    "El factor de uso es una métrica utilizada en la ingeniería eléctrica para evaluar la eficiencia con la que se utiliza la capacidad contratada de energía eléctrica en un determinado periodo. Se define como la relación entre la cantidad de energía realmente\n",
    "consumida y la cantidad de energía que habría sido consumida si la demanda máxima contratada se hubiera mantenido constante durante todo el periodo.\n",
    "\n",
    "Los hábitos de consumo estarán vinculados además a la demanda contratada con el fin de establecer el factor de uso de la misma.\n",
    "\n",
    "**a.- Calcular factor de uso y graficarlos. Como es la eficiencia?, se puede extraer alguna conclusión?**"
   ]
  },
  {
   "cell_type": "markdown",
   "metadata": {},
   "source": [
    "## 3.- Modelo de predicción, práctico 3\n",
    "A modo de no perder el norte y tener claro lo que se busca, repasamos el objetivos del modelo de predicción para el práctico 3.\n",
    "El modelo establecido deberá tener la capacidad de constituir en un estimador válido de hábitos de consumo para suministros que no posean medidores inteligentes."
   ]
  },
  {
   "cell_type": "markdown",
   "metadata": {},
   "source": [
    "## REQUISITOS A TENER EN CUENTA\n",
    "* En este práctico se busca determinar hábitos de consumos, descubrir insights, correlaciones, inferencias.\n",
    "* Luego de graficar, realizar un explicación de los resultados obtenidos, que es lo que se está demostrando o descubriendo, existen tendencias, patrones, etc?\n",
    "* Los proyectos de Data Science tienen que estar estructurados.\n",
    "* El trabajo se debe desarrollar en un notebook, el cual debe contar con un índice y sus correspondientes apartados, el código debe ser fácil de leer, estar probado y comentado.\n",
    "* Es importante tener en cuenta que se pueden realizar diferentes visualizaciones y tipos de análisis, pero en el entregable solo debe estar desarrollado todo lo que sea relevante."
   ]
  },
  {
   "cell_type": "markdown",
   "metadata": {},
   "source": [
    "---"
   ]
  },
  {
   "cell_type": "markdown",
   "metadata": {},
   "source": [
    "### Carga de librerías "
   ]
  },
  {
   "cell_type": "code",
   "execution_count": 1,
   "metadata": {},
   "outputs": [],
   "source": [
    "import glob\n",
    "import pandas as pd\n",
    "import numpy as np\n",
    "import math\n",
    "\n",
    "import matplotlib.pyplot as plt\n",
    "import seaborn as sns\n",
    "\n",
    "from datetime import datetime, timedelta\n",
    "\n",
    "import warnings\n",
    "warnings.filterwarnings(\"ignore\")"
   ]
  },
  {
   "cell_type": "markdown",
   "metadata": {},
   "source": [
    "### Carga de dataset"
   ]
  },
  {
   "cell_type": "code",
   "execution_count": 10,
   "metadata": {},
   "outputs": [],
   "source": [
    "# Nombre del archivo\n",
    "file = 'modelo_epec.csv'\n",
    "\n",
    "# Carga\n",
    "consumos = pd.read_csv(file, sep=\";\", decimal='.')\n"
   ]
  },
  {
   "cell_type": "code",
   "execution_count": 11,
   "metadata": {},
   "outputs": [
    {
     "data": {
      "text/html": [
       "<div>\n",
       "<style scoped>\n",
       "    .dataframe tbody tr th:only-of-type {\n",
       "        vertical-align: middle;\n",
       "    }\n",
       "\n",
       "    .dataframe tbody tr th {\n",
       "        vertical-align: top;\n",
       "    }\n",
       "\n",
       "    .dataframe thead th {\n",
       "        text-align: right;\n",
       "    }\n",
       "</style>\n",
       "<table border=\"1\" class=\"dataframe\">\n",
       "  <thead>\n",
       "    <tr style=\"text-align: right;\">\n",
       "      <th></th>\n",
       "      <th>TV</th>\n",
       "      <th>grupo_tarifario</th>\n",
       "      <th>distrito</th>\n",
       "      <th>sea</th>\n",
       "      <th>distribuidor</th>\n",
       "      <th>subestacion</th>\n",
       "      <th>codigo_tarifa</th>\n",
       "      <th>Temperatura_max</th>\n",
       "      <th>Temperatura_min</th>\n",
       "      <th>Temperatura_avg</th>\n",
       "      <th>Precipitaciones</th>\n",
       "      <th>Dia_Consumo</th>\n",
       "      <th>Mes_Consumo</th>\n",
       "      <th>Laboral</th>\n",
       "      <th>consumo</th>\n",
       "      <th>consumo_pico</th>\n",
       "      <th>consumo_valle</th>\n",
       "      <th>consumo_resto</th>\n",
       "      <th>Maxima_Demanda</th>\n",
       "      <th>contrato</th>\n",
       "    </tr>\n",
       "  </thead>\n",
       "  <tbody>\n",
       "    <tr>\n",
       "      <th>0</th>\n",
       "      <td>2023-01-02</td>\n",
       "      <td>1</td>\n",
       "      <td>1</td>\n",
       "      <td>ARGUE</td>\n",
       "      <td>13_BOULEVARES</td>\n",
       "      <td>2277.0</td>\n",
       "      <td>140</td>\n",
       "      <td>32.1</td>\n",
       "      <td>15.0</td>\n",
       "      <td>24.5</td>\n",
       "      <td>0.0</td>\n",
       "      <td>0</td>\n",
       "      <td>1</td>\n",
       "      <td>1.0</td>\n",
       "      <td>4.679</td>\n",
       "      <td>2.201</td>\n",
       "      <td>0.713</td>\n",
       "      <td>1.765</td>\n",
       "      <td>2.316</td>\n",
       "      <td>2.000000</td>\n",
       "    </tr>\n",
       "    <tr>\n",
       "      <th>1</th>\n",
       "      <td>2023-01-02</td>\n",
       "      <td>1</td>\n",
       "      <td>1</td>\n",
       "      <td>ARGUE</td>\n",
       "      <td>13_BOULEVARES</td>\n",
       "      <td>2277.0</td>\n",
       "      <td>150</td>\n",
       "      <td>32.1</td>\n",
       "      <td>15.0</td>\n",
       "      <td>24.5</td>\n",
       "      <td>0.0</td>\n",
       "      <td>0</td>\n",
       "      <td>1</td>\n",
       "      <td>1.0</td>\n",
       "      <td>8.611</td>\n",
       "      <td>1.732</td>\n",
       "      <td>2.210</td>\n",
       "      <td>4.669</td>\n",
       "      <td>1.196</td>\n",
       "      <td>4.000000</td>\n",
       "    </tr>\n",
       "    <tr>\n",
       "      <th>2</th>\n",
       "      <td>2023-01-02</td>\n",
       "      <td>1</td>\n",
       "      <td>1</td>\n",
       "      <td>ARGUE</td>\n",
       "      <td>13_BOULEVARES</td>\n",
       "      <td>2297.0</td>\n",
       "      <td>140</td>\n",
       "      <td>32.1</td>\n",
       "      <td>15.0</td>\n",
       "      <td>24.5</td>\n",
       "      <td>0.0</td>\n",
       "      <td>0</td>\n",
       "      <td>1</td>\n",
       "      <td>1.0</td>\n",
       "      <td>80.410</td>\n",
       "      <td>18.182</td>\n",
       "      <td>19.415</td>\n",
       "      <td>42.813</td>\n",
       "      <td>9.008</td>\n",
       "      <td>3.076923</td>\n",
       "    </tr>\n",
       "    <tr>\n",
       "      <th>3</th>\n",
       "      <td>2023-01-02</td>\n",
       "      <td>1</td>\n",
       "      <td>1</td>\n",
       "      <td>ARGUE</td>\n",
       "      <td>13_BOULEVARES</td>\n",
       "      <td>2297.0</td>\n",
       "      <td>150</td>\n",
       "      <td>32.1</td>\n",
       "      <td>15.0</td>\n",
       "      <td>24.5</td>\n",
       "      <td>0.0</td>\n",
       "      <td>0</td>\n",
       "      <td>1</td>\n",
       "      <td>1.0</td>\n",
       "      <td>5.757</td>\n",
       "      <td>1.644</td>\n",
       "      <td>1.483</td>\n",
       "      <td>2.630</td>\n",
       "      <td>0.800</td>\n",
       "      <td>2.000000</td>\n",
       "    </tr>\n",
       "    <tr>\n",
       "      <th>4</th>\n",
       "      <td>2023-01-02</td>\n",
       "      <td>1</td>\n",
       "      <td>1</td>\n",
       "      <td>ARGUE</td>\n",
       "      <td>13_BOULEVARES</td>\n",
       "      <td>2297.0</td>\n",
       "      <td>190</td>\n",
       "      <td>32.1</td>\n",
       "      <td>15.0</td>\n",
       "      <td>24.5</td>\n",
       "      <td>0.0</td>\n",
       "      <td>0</td>\n",
       "      <td>1</td>\n",
       "      <td>1.0</td>\n",
       "      <td>22.879</td>\n",
       "      <td>3.283</td>\n",
       "      <td>8.268</td>\n",
       "      <td>11.328</td>\n",
       "      <td>2.180</td>\n",
       "      <td>1.000000</td>\n",
       "    </tr>\n",
       "  </tbody>\n",
       "</table>\n",
       "</div>"
      ],
      "text/plain": [
       "           TV  grupo_tarifario  distrito    sea   distribuidor  subestacion  \\\n",
       "0  2023-01-02                1         1  ARGUE  13_BOULEVARES       2277.0   \n",
       "1  2023-01-02                1         1  ARGUE  13_BOULEVARES       2277.0   \n",
       "2  2023-01-02                1         1  ARGUE  13_BOULEVARES       2297.0   \n",
       "3  2023-01-02                1         1  ARGUE  13_BOULEVARES       2297.0   \n",
       "4  2023-01-02                1         1  ARGUE  13_BOULEVARES       2297.0   \n",
       "\n",
       "   codigo_tarifa  Temperatura_max  Temperatura_min  Temperatura_avg  \\\n",
       "0            140             32.1             15.0             24.5   \n",
       "1            150             32.1             15.0             24.5   \n",
       "2            140             32.1             15.0             24.5   \n",
       "3            150             32.1             15.0             24.5   \n",
       "4            190             32.1             15.0             24.5   \n",
       "\n",
       "   Precipitaciones  Dia_Consumo  Mes_Consumo  Laboral  consumo  consumo_pico  \\\n",
       "0              0.0            0            1      1.0    4.679         2.201   \n",
       "1              0.0            0            1      1.0    8.611         1.732   \n",
       "2              0.0            0            1      1.0   80.410        18.182   \n",
       "3              0.0            0            1      1.0    5.757         1.644   \n",
       "4              0.0            0            1      1.0   22.879         3.283   \n",
       "\n",
       "   consumo_valle  consumo_resto  Maxima_Demanda  contrato  \n",
       "0          0.713          1.765           2.316  2.000000  \n",
       "1          2.210          4.669           1.196  4.000000  \n",
       "2         19.415         42.813           9.008  3.076923  \n",
       "3          1.483          2.630           0.800  2.000000  \n",
       "4          8.268         11.328           2.180  1.000000  "
      ]
     },
     "execution_count": 11,
     "metadata": {},
     "output_type": "execute_result"
    }
   ],
   "source": [
    "consumos.head()"
   ]
  },
  {
   "cell_type": "code",
   "execution_count": 14,
   "metadata": {},
   "outputs": [
    {
     "name": "stdout",
     "output_type": "stream",
     "text": [
      "<class 'pandas.core.frame.DataFrame'>\n",
      "RangeIndex: 465186 entries, 0 to 465185\n",
      "Data columns (total 20 columns):\n",
      " #   Column           Non-Null Count   Dtype         \n",
      "---  ------           --------------   -----         \n",
      " 0   TV               465186 non-null  datetime64[ns]\n",
      " 1   grupo_tarifario  465186 non-null  int64         \n",
      " 2   distrito         465186 non-null  int64         \n",
      " 3   sea              465186 non-null  object        \n",
      " 4   distribuidor     465186 non-null  object        \n",
      " 5   subestacion      465186 non-null  float64       \n",
      " 6   codigo_tarifa    465186 non-null  int64         \n",
      " 7   Temperatura_max  465186 non-null  float64       \n",
      " 8   Temperatura_min  465186 non-null  float64       \n",
      " 9   Temperatura_avg  465186 non-null  float64       \n",
      " 10  Precipitaciones  465186 non-null  float64       \n",
      " 11  Dia_Consumo      465186 non-null  int64         \n",
      " 12  Mes_Consumo      465186 non-null  int64         \n",
      " 13  Laboral          465186 non-null  float64       \n",
      " 14  consumo          465186 non-null  float64       \n",
      " 15  consumo_pico     465186 non-null  float64       \n",
      " 16  consumo_valle    465186 non-null  float64       \n",
      " 17  consumo_resto    465186 non-null  float64       \n",
      " 18  Maxima_Demanda   465186 non-null  float64       \n",
      " 19  contrato         465186 non-null  float64       \n",
      "dtypes: datetime64[ns](1), float64(12), int64(5), object(2)\n",
      "memory usage: 71.0+ MB\n"
     ]
    }
   ],
   "source": [
    "consumos.info()"
   ]
  },
  {
   "cell_type": "code",
   "execution_count": 13,
   "metadata": {},
   "outputs": [],
   "source": [
    "consumos['TV'] = pd.to_datetime(consumos['TV'])\n"
   ]
  },
  {
   "cell_type": "markdown",
   "metadata": {},
   "source": [
    "### Nuevas Variables"
   ]
  },
  {
   "cell_type": "markdown",
   "metadata": {
    "vscode": {
     "languageId": "plaintext"
    }
   },
   "source": [
    "---\n",
    "\n",
    "Guardo modelo obtenido"
   ]
  },
  {
   "cell_type": "code",
   "execution_count": null,
   "metadata": {},
   "outputs": [],
   "source": [
    "# nombre de archivo\n",
    "csv_file = 'modelo_epec_2.csv'\n",
    "\n",
    "# grabar los datos\n",
    "final_df.to_csv(csv_file, sep=';', index=False)"
   ]
  }
 ],
 "metadata": {
  "kernelspec": {
   "display_name": "Python 3",
   "language": "python",
   "name": "python3"
  },
  "language_info": {
   "codemirror_mode": {
    "name": "ipython",
    "version": 3
   },
   "file_extension": ".py",
   "mimetype": "text/x-python",
   "name": "python",
   "nbconvert_exporter": "python",
   "pygments_lexer": "ipython3",
   "version": "3.12.4"
  }
 },
 "nbformat": 4,
 "nbformat_minor": 2
}
